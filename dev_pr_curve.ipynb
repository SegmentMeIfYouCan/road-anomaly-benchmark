{
 "cells": [
  {
   "cell_type": "markdown",
   "id": "a375e012-1475-4d9d-99df-e1c4e202c4f4",
   "metadata": {},
   "source": [
    "# Fixes to Precision-Recall curve\n",
    "\n",
    "The pixel classification metrics were originally tested with smoothly distributed values.\n",
    "For example values output by a softmax would range from 0 to 1 and given a usual U-Net we would observe smoothly changing logit levels.\n",
    "\n",
    "The implementation however creates wrong results in some cases - for instance if we the prediction is binary, score = 0 or 1.\n",
    "\n",
    "\n",
    "- In dynamic binning mode, set bin edges to surround the whole range of values by adding extra bin edges at `minval - eps` and `maxval + eps`.\n",
    "\tThis allows us to correctly treat groups of sharp 0s and 1s scores.\n",
    "\t\n",
    "- When calculating PR curve, ensure the curve starts at precision=1,recall=0 and ends at recall=1\n",
    "\n",
    "- Area under PR curve is calculated according to sklearn and ignores the areas where the curve rises, instead taking a flat section of the graph.\n",
    "\t(see images)\n",
    "\n",
    "- Curve segments for repeated thresholds are collapsed."
   ]
  },
  {
   "cell_type": "code",
   "execution_count": null,
   "id": "7b9f84ba-72dc-4b73-9353-bbbfa91fb7b1",
   "metadata": {},
   "outputs": [],
   "source": []
  },
  {
   "cell_type": "code",
   "execution_count": null,
   "id": "a7f2b68b-849e-43b9-a440-c65ed68e8948",
   "metadata": {},
   "outputs": [],
   "source": []
  },
  {
   "cell_type": "code",
   "execution_count": 36,
   "id": "a8c65517-dc5c-4253-a2c2-1958ce2ad6c4",
   "metadata": {},
   "outputs": [
    {
     "name": "stdout",
     "output_type": "stream",
     "text": [
      "The autoreload extension is already loaded. To reload it, use:\n",
      "  %reload_ext autoreload\n"
     ]
    }
   ],
   "source": [
    "%load_ext autoreload\n",
    "%autoreload 2\n",
    "%reload_ext autoreload"
   ]
  },
  {
   "cell_type": "code",
   "execution_count": 37,
   "id": "0998ba39-d440-4a6e-830e-5563fd0c46e8",
   "metadata": {},
   "outputs": [],
   "source": [
    "import numpy as np\n",
    "from easydict import EasyDict\n",
    "from tqdm import tqdm\n",
    "\n",
    "from road_anomaly_benchmark.evaluation import Evaluation\n",
    "from road_anomaly_benchmark.datasets import DatasetRegistry\n",
    "from road_anomaly_benchmark.metrics import MetricRegistry"
   ]
  },
  {
   "cell_type": "code",
   "execution_count": null,
   "id": "cf38a615-f4de-4ef3-ac86-d3a9afd2f4ec",
   "metadata": {},
   "outputs": [],
   "source": []
  },
  {
   "cell_type": "code",
   "execution_count": 38,
   "id": "d0cf44ae-ea44-4882-a185-07a88fa8b563",
   "metadata": {},
   "outputs": [],
   "source": [
    "from matplotlib import pyplot\n",
    "%matplotlib inline"
   ]
  },
  {
   "cell_type": "code",
   "execution_count": null,
   "id": "cc29d03c-daf2-4f22-b061-af28c37c15f3",
   "metadata": {},
   "outputs": [],
   "source": []
  },
  {
   "cell_type": "markdown",
   "id": "01295f35-0eb0-4526-af68-48f68885b382",
   "metadata": {},
   "source": [
    "## Before fix"
   ]
  },
  {
   "cell_type": "code",
   "execution_count": 39,
   "id": "395b4e8e-f818-4ca0-9629-d6a2a9596a18",
   "metadata": {},
   "outputs": [],
   "source": [
    "def binary_confusion_matrix_orig(\n",
    "\t\tprob : np.ndarray, gt_label_bool : np.ndarray, \n",
    "\t\tnum_bins : int = 1024, bin_strategy = 'uniform', # : Literal['uniform', 'percentiles'] = 'uniform',\n",
    "\t\tnormalize : bool = False, dtype = np.float64):\n",
    "\t\n",
    "\tarea = gt_label_bool.__len__()\n",
    "\n",
    "\tgt_area_true = np.count_nonzero(gt_label_bool)\n",
    "\tgt_area_false = area - gt_area_true\n",
    "\n",
    "\tprob_at_true = prob[gt_label_bool]\n",
    "\tprob_at_false = prob[~gt_label_bool]\n",
    "\n",
    "\tif bin_strategy == 'uniform':\n",
    "\t\t# bins spread uniforms in 0 .. 1\n",
    "\t\tbins = num_bins\n",
    "\t\thistogram_range = [0, 1]\n",
    "\n",
    "\telif bin_strategy == 'percentiles':\n",
    "\t\t# dynamic bins representing the range of occurring values\n",
    "\t\t# bin edges are following the distribution of positive and negative pixels\n",
    "\n",
    "\t\tbins = [\n",
    "\t\t\t[0, 1], # make sure 0 and 1 are included\n",
    "\t\t]\n",
    "\n",
    "\t\tif prob_at_true.size:\n",
    "\t\t\tbins += [\n",
    "\t\t\t\tnp.quantile(prob_at_true, np.linspace(0, 1, min(num_bins//2, prob_at_true.size))),\n",
    "\t\t\t]\n",
    "\t\tif prob_at_false.size:\n",
    "\t\t\tbins += [\n",
    "\t\t\t\tnp.quantile(prob_at_false, np.linspace(0, 1, min(num_bins//2, prob_at_false.size))),\n",
    "\t\t\t]\n",
    "\n",
    "\t\t\t\n",
    "\t\tbins = np.concatenate(bins)\n",
    "\t\t\n",
    "\t\t# sort and remove duplicates, duplicated cause an exception in np.histogram\n",
    "\t\tbins = np.unique(bins)\n",
    "\t\t\n",
    "\n",
    "\t\thistogram_range = None\n",
    "\n",
    "\t# the area of positive pixels is divided into\n",
    "\t#\t- true positives - above threshold\n",
    "\t#\t- false negatives - below threshold\n",
    "\ttp_rel, _ = np.histogram(prob_at_true, bins=bins, range=histogram_range)\n",
    "\t# the curve goes from higher thresholds to lower thresholds\n",
    "\ttp_rel = tp_rel[::-1]\n",
    "\t# cumsum to get number of tp at given threshold\n",
    "\ttp = np.cumsum(tp_rel)\n",
    "\t# GT-positives which are not TP are instead FN\n",
    "\tfn = gt_area_true - tp\n",
    "\n",
    "\t# the area of negative pixels is divided into\n",
    "\t#\t- false positives - above threshold\n",
    "\t#\t- true negatives - below threshold\n",
    "\tfp_rel, bin_edges = np.histogram(prob_at_false, bins=bins, range=histogram_range)\n",
    "\t# the curve goes from higher thresholds to lower thresholds\n",
    "\tbin_edges = bin_edges[::-1]\n",
    "\tfp_rel = fp_rel[::-1]\n",
    "\t# cumsum to get number of fp at given threshold\n",
    "\tfp = np.cumsum(fp_rel)\n",
    "\t# GT-negatives which are not FP are instead TN\n",
    "\ttn = gt_area_false - fp\n",
    "\n",
    "\tcmat_sum = np.array([\n",
    "\t\t[tp, fp],\n",
    "\t\t[fn, tn],\n",
    "\t]).transpose(2, 0, 1).astype(dtype)\n",
    "\n",
    "\t# cmat_rel = np.array([\n",
    "\t# \t[tp_rel, fp_rel],\n",
    "\t# \t[-tp_rel, -fp_rel],\n",
    "\t# ]).transpose(2, 0, 1).astype(dtype)\n",
    "\t\n",
    "\tif normalize:\n",
    "\t\tcmat_sum *= (1./area)\n",
    "\t\t# cmat_rel *= (1./area)\n",
    "\n",
    "\treturn EasyDict(\n",
    "\t\tbin_edges = bin_edges,\n",
    "\t\tcmat_sum = cmat_sum,\n",
    "\t\t# cmat_rel = cmat_rel,\n",
    "\t\ttp_rel = tp_rel,\n",
    "\t\tfp_rel = fp_rel,\n",
    "\t\tnum_pos = gt_area_true,\n",
    "\t\tnum_neg = gt_area_false,\n",
    "\t)\n",
    "\n",
    "\n",
    "def get_no_prediction_prefix(cmats):\n",
    "\t\"\"\"\n",
    "\tThe threshold goes from high to low\n",
    "\tAt the beginning, we have 0 predictions and there is no valid precision\n",
    "\tRemove the prefix with 0 predictions\n",
    "\n",
    "\tThis function returns the number of elements to remove from the beginning.\n",
    "\t\"\"\"\n",
    "\n",
    "\tfor i in range(cmats.__len__()):\n",
    "\t\tif cmats[i, 0, 0] + cmats[i, 0, 1] > 0.01:\n",
    "\t\t\treturn i\n",
    "\n",
    "\traise ValueError('No predictions made at all')\n",
    "\n",
    "\n",
    "def curves_from_cmats_orig(cmats, thresholds):\n",
    "\t\n",
    "\t# The threshold goes from high to low\n",
    "\t# At the beginning, we have 0 predictions and there is no valid precision\n",
    "\t# Remove the prefix with 0 predictions\n",
    "\n",
    "\tnum_remove = get_no_prediction_prefix(cmats)\n",
    "\n",
    "\tif num_remove > 0:\n",
    "\t\tprint(f'Skip {num_remove}')\n",
    "\t\tcmats = cmats[num_remove:]\n",
    "\t\tthresholds = thresholds[num_remove:]\n",
    "\n",
    "\ttp = cmats[:, 0, 0]\n",
    "\tfp = cmats[:, 0, 1]\n",
    "\tfn = cmats[:, 1, 0]\n",
    "\ttn = cmats[:, 1, 1]\n",
    "\n",
    "\ttp_rates = tp / (tp+fn)\n",
    "\tfp_rates = fp / (fp+tn)\n",
    "\n",
    "\tprecisions = tp / (tp+fp)\n",
    "\trecalls = tp / (tp+fn)\n",
    "\tf1_scores = (2 * tp) / (2 * tp + fp + fn)\n",
    "\n",
    "\ttpr95_index = np.searchsorted(tp_rates, 0.95)\n",
    "\tif tpr95_index < tp_rates.shape[0]:\n",
    "\t\tfpr_tpr95 = fp_rates[tpr95_index]\n",
    "\t\ttpr95_threshold = float(thresholds[tpr95_index])\n",
    "\telse:\n",
    "\t\t# tpr95 was not reached\n",
    "\t\tfpr_tpr95 = 1.0\n",
    "\t\ttpr95_threshold = 0.0\n",
    "\n",
    "\trecall50_index = np.searchsorted(recalls, 0.50)\n",
    "\trecall50_threshold = float(thresholds[recall50_index])\n",
    "\n",
    "\tix = np.nanargmax(f1_scores)\n",
    "\tbest_f1_threshold = float(thresholds[ix])\n",
    "\tbest_f1 = f1_scores[ix]\n",
    "\n",
    "\tprint(\n",
    "\t\t'ap-sum', np.sum(np.diff(recalls) * precisions[:-1]),\n",
    "\t\t'ap-trapz', np.trapz(precisions, recalls),\n",
    "\t)\n",
    "\n",
    "\treturn EasyDict(\n",
    "\t\t# curves\n",
    "\t\tcurve_tpr = tp_rates,\n",
    "\t\tcurve_fpr = fp_rates,\n",
    "\t\tcurve_precision = precisions,\n",
    "\t\tcurve_recall = recalls,\n",
    "\t\t\n",
    "\t\tthresholds = thresholds,\n",
    "\n",
    "\t\t# areas\n",
    "\t\tarea_ROC = np.trapz(tp_rates, fp_rates),\n",
    "\t\tarea_PRC = np.trapz(precisions, recalls),\n",
    "\n",
    "\t\ttpr95_fpr = fpr_tpr95,\n",
    "\t\ttpr95_threshold = tpr95_threshold,\n",
    "\n",
    "\t\trecall50_threshold = recall50_threshold,\n",
    "\t\tbest_f1_threshold = best_f1_threshold,\n",
    "\t\tbest_f1 = best_f1\n",
    "\n",
    "\t)\n",
    "\n",
    "def aggregate_dynamic_bins_orig(frame_results):\n",
    "\n",
    "\tthresholds = np.concatenate([r.bin_edges[1:] for r in frame_results])\n",
    "\n",
    "\ttp_relative = np.concatenate([r.tp_rel for r in frame_results], axis=0)\n",
    "\tfp_relative = np.concatenate([r.fp_rel for r in frame_results], axis=0)\n",
    "\n",
    "\tnum_positives = sum(r.num_pos for r in frame_results)\n",
    "\tnum_negatives = sum(r.num_neg for r in frame_results)\n",
    "\n",
    "\n",
    "\tthreshold_order = np.argsort(thresholds)[::-1]\n",
    "\n",
    "\t# We start at threshold = 1, and lower it\n",
    "\t# Initially, prediction=0, all GT=1 pixels are false-negatives, and all GT=0 pixels are true-negatives.\n",
    "\n",
    "\ttp_cumu = np.cumsum(tp_relative[threshold_order].astype(np.float64))\n",
    "\tfp_cumu = np.cumsum(fp_relative[threshold_order].astype(np.float64))\n",
    "\n",
    "\tcmats = np.array([\n",
    "\t\t# tp, fp\n",
    "\t\t[tp_cumu, fp_cumu],\n",
    "\t\t# fn, tn\n",
    "\t\t[num_positives - tp_cumu, num_negatives - fp_cumu],\n",
    "\t]).transpose([2, 0, 1])\n",
    "\n",
    "\t# cmats = np.concatenate([[\n",
    "\t# \t0, 0,\n",
    "\t# \tnum_positives, num_negatives,\n",
    "\t# ]])\n",
    "\n",
    "\treturn EasyDict(\n",
    "\t\tcmat = cmats,\n",
    "\t\tthresholds = thresholds[threshold_order],\n",
    "\t)\n",
    "\n"
   ]
  },
  {
   "cell_type": "code",
   "execution_count": 40,
   "id": "f1c69b0d-8578-4eb9-b5fb-ec4a42bca023",
   "metadata": {},
   "outputs": [],
   "source": [
    "from road_anomaly_benchmark.metrics.pixel_classification_curves import BinaryClassificationCurve, curves_from_cmats\n",
    "from road_anomaly_benchmark.metrics.pixel_classification import binary_confusion_matrix, MetricPixelClassification\n",
    "\n",
    "from sklearn.metrics import PrecisionRecallDisplay, average_precision_score\n",
    "\n",
    "\n",
    "def segme_ap_orig(label_pixel_gt, anomaly_p, reps=1):\n",
    "\tfr_cm = binary_confusion_matrix_orig(\n",
    "\t\tprob = anomaly_p,\n",
    "\t\tgt_label_bool = label_pixel_gt,\n",
    "\t\tnum_bins = 768,\n",
    "\t\tbin_strategy = 'percentiles',\n",
    "\t)\n",
    "\t\n",
    "\tag = aggregate_dynamic_bins_orig([fr_cm]*reps)\t\n",
    "\tcurves = curves_from_cmats_orig(ag.cmat, ag.thresholds)\n",
    "\n",
    "\tbc_info = BinaryClassificationCurve(\n",
    "\t\tmethod_name = 'gt',\n",
    "\t\tdataset_name = '?',\n",
    "\t\t**curves,\n",
    "\t)\n",
    "\treturn bc_info\n",
    "\n",
    "def segme_ap_new(label_pixel_gt, anomaly_p, reps=1):\n",
    "\tfr_cm = binary_confusion_matrix(\n",
    "\t\tprob = anomaly_p,\n",
    "\t\tgt_label_bool = label_pixel_gt,\n",
    "\t\tnum_bins = 768,\n",
    "\t\tbin_strategy = 'percentiles',\n",
    "\t)\n",
    "\t\n",
    "\tag = MetricPixelClassification.aggregate_dynamic_bins([fr_cm]*reps)\t\n",
    "\tcurves = curves_from_cmats(ag.cmat, ag.thresholds)\n",
    "\n",
    "\tbc_info = BinaryClassificationCurve(\n",
    "\t\tmethod_name = 'gt',\n",
    "\t\tdataset_name = '?',\n",
    "\t\t**curves,\n",
    "\t)\n",
    "\t\n",
    "\treturn bc_info\n",
    "\t\n",
    "def plot_curve(plot, bc_info, title):\n",
    "\tplot.plot(  bc_info.curve_recall,  bc_info.curve_precision, label=f'AuPRC = {bc_info.area_PRC}')\n",
    "\tplot.set_xlabel('recall')\n",
    "\tplot.set_ylabel('precision')\n",
    "\tplot.legend()\n",
    "\tplot.set_title(title)\n",
    "\t\n",
    "\t\n",
    "def auprc_sklearn(label_pixel_gt, anomaly_p, plot=None):\n",
    "\tap_sklearn = average_precision_score(label_pixel_gt, anomaly_p)\n",
    "\n",
    "\tdisplay = PrecisionRecallDisplay.from_predictions(\n",
    "\t\tlabel_pixel_gt, anomaly_p, \n",
    "\t\tax = plot,\n",
    "\t)\n",
    "\treturn ap_sklearn\n",
    "\n",
    "\n",
    "def test_curves(label_pixel_gt, anomaly_p, reps=1, dsname='NONE'):\n",
    "\tlabel_pixel_gt = np.array(label_pixel_gt, dtype=bool)\n",
    "\tanomaly_p = np.array(anomaly_p, dtype=np.float32)\n",
    "\t\n",
    "\t\n",
    "\tfig, plots = pyplot.subplots(1, 3, figsize = (15, 5))\n",
    "\n",
    "\tc1 = segme_ap_orig(label_pixel_gt, anomaly_p, reps=reps)\n",
    "\tc2 = segme_ap_new(label_pixel_gt, anomaly_p, reps=reps)\n",
    "\t\n",
    "\tfor idx, (curve, title) in enumerate([(c1, 'Segme Orig'), (c2, 'Segme Fixed')]):\n",
    "\t\tplot_curve(plots[idx], curve, title)\n",
    "\t\n",
    "\tauprc_sklearn(\n",
    "\t\tnp.repeat(label_pixel_gt, reps), \n",
    "\t\tnp.repeat(anomaly_p, reps),\n",
    "\t\tplot = plots[2],\n",
    "\t)\n",
    "\tplots[2].set_title('sklearn')\n",
    "\t\n",
    "\t"
   ]
  },
  {
   "cell_type": "code",
   "execution_count": null,
   "id": "32f5727a-d143-4da0-a331-8456a29341ae",
   "metadata": {},
   "outputs": [],
   "source": []
  },
  {
   "cell_type": "code",
   "execution_count": 41,
   "id": "dc5b8042-8161-4cef-85e5-3c35267815e7",
   "metadata": {},
   "outputs": [
    {
     "name": "stdout",
     "output_type": "stream",
     "text": [
      "ap-sum 0.3875000000000001 ap-trapz 0.3875000000000001\n",
      "ap-sum 1.0 ap-trapz 1.0\n"
     ]
    },
    {
     "data": {
      "image/png": "[encoded data removed]",
      "text/plain": [
       "<Figure size 1080x360 with 3 Axes>"
      ]
     },
     "metadata": {
      "needs_background": "light"
     },
     "output_type": "display_data"
    }
   ],
   "source": [
    "test_curves(\n",
    "\t[False, False, False, True, True],\n",
    "\t[0., 0., 0., 1., 1.],\n",
    "\treps=32,\n",
    ")\n"
   ]
  },
  {
   "cell_type": "code",
   "execution_count": 42,
   "id": "fe16cf64-8c0f-49d8-937c-ce0f5c751f0f",
   "metadata": {},
   "outputs": [
    {
     "name": "stdout",
     "output_type": "stream",
     "text": [
      "ap-sum 0.5 ap-trapz 0.5\n",
      "ap-sum 1.0 ap-trapz 1.0\n"
     ]
    },
    {
     "data": {
      "image/png": "[encoded data removed]",
      "text/plain": [
       "<Figure size 1080x360 with 3 Axes>"
      ]
     },
     "metadata": {
      "needs_background": "light"
     },
     "output_type": "display_data"
    }
   ],
   "source": [
    "test_curves(\n",
    "\t[False, True, False, True],\n",
    "\t[0.1, 0.4, 0.35, 0.8],\n",
    ")\n",
    "\t"
   ]
  },
  {
   "cell_type": "code",
   "execution_count": 43,
   "id": "47830f81-e2bc-4947-a8dd-e3ac988f755d",
   "metadata": {},
   "outputs": [],
   "source": [
    "# np.nonzero([True, False, False])\n",
    "# np.nonzero?"
   ]
  },
  {
   "cell_type": "code",
   "execution_count": 44,
   "id": "8e0b9def-d50b-4460-bdd9-95276aa3b751",
   "metadata": {},
   "outputs": [
    {
     "name": "stdout",
     "output_type": "stream",
     "text": [
      "ap-sum 0.7520883793683228 ap-trapz 0.755560601590545\n",
      "ap-sum 0.8333333333333333 ap-trapz 0.7916666666666666\n"
     ]
    },
    {
     "data": {
      "image/png": "[encoded data removed]",
      "text/plain": [
       "<Figure size 1080x360 with 3 Axes>"
      ]
     },
     "metadata": {
      "needs_background": "light"
     },
     "output_type": "display_data"
    }
   ],
   "source": [
    "test_curves(\n",
    "\t[False, False, True, True],\n",
    "\t[0.1, 0.4, 0.35, 0.8],\n",
    "\treps=12,\n",
    ")\n",
    "\t"
   ]
  },
  {
   "cell_type": "code",
   "execution_count": 45,
   "id": "a2a2618c-b9e6-4951-a9d3-5297007ff122",
   "metadata": {},
   "outputs": [
    {
     "name": "stdout",
     "output_type": "stream",
     "text": [
      "ap-sum 0.0 ap-trapz 0.0\n",
      "ap-sum 0.5 ap-trapz 0.75\n"
     ]
    },
    {
     "data": {
      "image/png": "[encoded data removed]",
      "text/plain": [
       "<Figure size 1080x360 with 3 Axes>"
      ]
     },
     "metadata": {
      "needs_background": "light"
     },
     "output_type": "display_data"
    }
   ],
   "source": [
    "test_curves(\n",
    "\t[False, False, True, True],\n",
    "\t[0.5, 0.5, 0.5, 0.5],\n",
    "\t# reps=16,\n",
    ")\n"
   ]
  },
  {
   "cell_type": "code",
   "execution_count": 46,
   "id": "e267ca80-cee7-4c22-83c5-df6b40146a3b",
   "metadata": {},
   "outputs": [
    {
     "name": "stdout",
     "output_type": "stream",
     "text": [
      "ap-sum 0.6783029420443059 ap-trapz 0.6784114489887502\n",
      "ap-sum 0.9166666666666666 ap-trapz 0.9027777777777777\n"
     ]
    },
    {
     "data": {
      "image/png": "[encoded data removed]",
      "text/plain": [
       "<Figure size 1080x360 with 3 Axes>"
      ]
     },
     "metadata": {
      "needs_background": "light"
     },
     "output_type": "display_data"
    }
   ],
   "source": [
    "c = test_curves(\n",
    "\t[False, False, False, True, True, True],\n",
    "\t[0., 0., 0.9, 0.1, 1., 1.],\n",
    "\treps=128,\n",
    ")\n",
    "# dir(c)\n",
    "# c.thresholds\n"
   ]
  },
  {
   "cell_type": "code",
   "execution_count": null,
   "id": "ebb3bc80-e3fc-4b63-b06e-c6088924de9e",
   "metadata": {},
   "outputs": [],
   "source": []
  },
  {
   "cell_type": "code",
   "execution_count": null,
   "id": "b9d2d5c5-93ce-435c-b9ae-7b8cfb679aeb",
   "metadata": {},
   "outputs": [],
   "source": []
  },
  {
   "cell_type": "code",
   "execution_count": null,
   "id": "49903cf5-602e-4aef-b527-15041d7401ef",
   "metadata": {},
   "outputs": [],
   "source": []
  },
  {
   "cell_type": "code",
   "execution_count": null,
   "id": "72d0ec6d-dfc5-4067-bd5c-a6c064463605",
   "metadata": {},
   "outputs": [],
   "source": []
  },
  {
   "cell_type": "code",
   "execution_count": null,
   "id": "58ee3abc-9411-4073-8891-de06d7659f20",
   "metadata": {},
   "outputs": [],
   "source": []
  },
  {
   "cell_type": "code",
   "execution_count": null,
   "id": "5577e438-e948-4fbd-b2fb-9be68b60e68f",
   "metadata": {},
   "outputs": [],
   "source": []
  },
  {
   "cell_type": "code",
   "execution_count": null,
   "id": "c27ef24f-66d7-40c3-bd90-6677cc26fa68",
   "metadata": {},
   "outputs": [],
   "source": []
  },
  {
   "cell_type": "code",
   "execution_count": null,
   "id": "b8ba5ef7-45b3-4170-a2d5-f5c03e5ddce7",
   "metadata": {},
   "outputs": [],
   "source": []
  },
  {
   "cell_type": "code",
   "execution_count": null,
   "id": "69f75268-1e00-47ef-b2d0-d272475ae021",
   "metadata": {},
   "outputs": [],
   "source": []
  },
  {
   "cell_type": "markdown",
   "id": "25231149-7a73-4d72-8976-7e7b6d5d6fa7",
   "metadata": {},
   "source": [
    "## Test method which returns GT"
   ]
  },
  {
   "cell_type": "code",
   "execution_count": 47,
   "id": "f1efd63d-b58b-47ef-b519-2335ab642b0e",
   "metadata": {},
   "outputs": [
    {
     "name": "stdout",
     "output_type": "stream",
     "text": [
      "2023-08-05 18:20:39,082 | road_anomaly_benchmark.datasets.tracks INFO | ObstacleTrack-validation: Exclude 30 -> 30\n"
     ]
    },
    {
     "data": {
      "text/plain": [
       "dict_keys(['fid', 'dset_name', 'image', 'semantic_class_gt', 'label_pixel_gt'])"
      ]
     },
     "execution_count": 47,
     "metadata": {},
     "output_type": "execute_result"
    }
   ],
   "source": [
    "dsname = 'ObstacleTrack-validation'\n",
    "dset = DatasetRegistry.get(dsname)\n",
    "\n",
    "fr = dset[0]\n",
    "fr.keys()"
   ]
  },
  {
   "cell_type": "code",
   "execution_count": 48,
   "id": "369b43d9-c981-42f6-9fc9-659444e6c207",
   "metadata": {},
   "outputs": [],
   "source": [
    "# show([fr.image, fr.label_pixel_gt == 1, fr.label_pixel_gt.astype(bool).astype(np.float16)])"
   ]
  },
  {
   "cell_type": "code",
   "execution_count": 49,
   "id": "01db4aa6-0bfa-4ca3-8cac-662db8ada56a",
   "metadata": {},
   "outputs": [
    {
     "name": "stderr",
     "output_type": "stream",
     "text": [
      "100%|██████████| 30/30 [00:02<00:00, 11.38it/s]\n",
      "100%|██████████| 30/30 [00:01<00:00, 28.38it/s]\n"
     ]
    },
    {
     "name": "stdout",
     "output_type": "stream",
     "text": [
      "ap-sum 1.0 ap-trapz 1.0\n"
     ]
    },
    {
     "data": {
      "image/png": "[encoded data removed]",
      "text/plain": [
       "<Figure size 432x288 with 1 Axes>"
      ]
     },
     "metadata": {
      "needs_background": "light"
     },
     "output_type": "display_data"
    }
   ],
   "source": [
    "\n",
    "def method_gt(label_pixel_gt, **_):\n",
    "\tanomaly_p = label_pixel_gt.astype(bool).astype(np.float16)\n",
    "\t# anomaly_p = (label_pixel_gt == 1).astype(np.float16)\n",
    "\treturn anomaly_p\n",
    "\n",
    "\n",
    "dsname = 'ObstacleTrack-validation'\n",
    "\n",
    "def infer():\n",
    "\n",
    "\tev = Evaluation(\n",
    "\t\tmethod_name = 'gt', \n",
    "\t\tdataset_name = dsname,\n",
    "\t)\n",
    "\tdset = DatasetRegistry.get(dsname)\n",
    "\t\n",
    "\t# for frame in tqdm(ev.get_frames()):\n",
    "\tfor frame in tqdm(dset):\n",
    "\t\t# run method here\n",
    "\t\tresult = method_gt(**frame)\n",
    "\t\t# provide the output for saving\n",
    "\t\tev.save_output(frame, result)\n",
    "\n",
    "\t# wait for the background threads which are saving\n",
    "\tev.wait_to_finish_saving()\n",
    "\t\n",
    "\tcurve = ev.calculate_metric_from_saved_outputs('PixBinaryClass')\n",
    "\n",
    "\tfig, plot = pyplot.subplots(1, 1)\n",
    "\tplot_curve(plot, curve, 'Gt strategy')\n",
    "\t\n",
    "infer()\n",
    "\t\n"
   ]
  },
  {
   "cell_type": "code",
   "execution_count": null,
   "id": "7f99b04b-ac2b-4751-98f6-81e326942953",
   "metadata": {},
   "outputs": [],
   "source": []
  },
  {
   "cell_type": "code",
   "execution_count": null,
   "id": "572070cc-9ac8-4517-b346-5b36cc7d1204",
   "metadata": {},
   "outputs": [],
   "source": []
  },
  {
   "cell_type": "code",
   "execution_count": null,
   "id": "7b0a08cb-498c-4d34-9e4a-d45ade5da75c",
   "metadata": {},
   "outputs": [],
   "source": []
  },
  {
   "cell_type": "code",
   "execution_count": null,
   "id": "0a603e00-bcae-41e9-a32d-1e818ff9a68e",
   "metadata": {},
   "outputs": [],
   "source": []
  }
 ],
 "metadata": {
  "kernelspec": {
   "display_name": "Python 3",
   "language": "python",
   "name": "python3"
  },
  "language_info": {
   "codemirror_mode": {
    "name": "ipython",
    "version": 3
   },
   "file_extension": ".py",
   "mimetype": "text/x-python",
   "name": "python",
   "nbconvert_exporter": "python",
   "pygments_lexer": "ipython3",
   "version": "3.8.2"
  }
 },
 "nbformat": 4,
 "nbformat_minor": 5
}
